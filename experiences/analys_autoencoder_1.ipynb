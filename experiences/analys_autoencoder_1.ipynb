{
 "cells": [
  {
   "cell_type": "code",
   "execution_count": 1,
   "outputs": [
    {
     "name": "stdout",
     "output_type": "stream",
     "text": [
      "Using device: cuda:0\n"
     ]
    }
   ],
   "source": [
    "import torch\n",
    "\n",
    "# Detection du gpu et utilisation si disponible\n",
    "device = torch.device('cuda:0' if torch.cuda.is_available() else 'cpu')\n",
    "print('Using device:', device)"
   ],
   "metadata": {
    "collapsed": false,
    "ExecuteTime": {
     "end_time": "2023-08-27T19:43:53.666922500Z",
     "start_time": "2023-08-27T19:43:51.600729Z"
    }
   },
   "id": "de9e112a886379d7"
  },
  {
   "cell_type": "code",
   "execution_count": 2,
   "outputs": [
    {
     "data": {
      "text/plain": "<All keys matched successfully>"
     },
     "execution_count": 2,
     "metadata": {},
     "output_type": "execute_result"
    }
   ],
   "source": [
    "import torch\n",
    "from torch import nn\n",
    "from pathlib import Path\n",
    "from chess_pytorch_ia.autoencoder.model_64 import AutoEncoder64\n",
    "# Chemin vers le fichier de sauvegarde des poids\n",
    "path = Path().resolve().parent / 'weights' / f'auto_encoder_64.pth'\n",
    "\n",
    "model = AutoEncoder64().to(device=device)\n",
    "model.load_state_dict(torch.load(f'{path}'))"
   ],
   "metadata": {
    "collapsed": false,
    "ExecuteTime": {
     "end_time": "2023-08-27T19:43:55.479911700Z",
     "start_time": "2023-08-27T19:43:53.668925200Z"
    }
   },
   "id": "a566695d0318fab3"
  },
  {
   "cell_type": "code",
   "execution_count": 3,
   "outputs": [],
   "source": [
    "# Fonction pour calculer la précision du modèle\n",
    "from chess_pytorch_ia.analys import check_accuracy"
   ],
   "metadata": {
    "collapsed": false,
    "ExecuteTime": {
     "end_time": "2023-08-27T19:43:55.486079300Z",
     "start_time": "2023-08-27T19:43:55.481920100Z"
    }
   },
   "id": "b08ab08d44afc8a1"
  },
  {
   "cell_type": "code",
   "execution_count": 4,
   "outputs": [],
   "source": [
    "from torch.utils.data import DataLoader\n",
    "from chess_pytorch_ia.autoencoder.datasets.dataset_64 import RandomMoveDataset64\n",
    "\n",
    "# Charge les données\n",
    "dataset = RandomMoveDataset64()\n",
    "loader = DataLoader(dataset=dataset, batch_size=64, shuffle=True)"
   ],
   "metadata": {
    "collapsed": false,
    "ExecuteTime": {
     "end_time": "2023-08-27T19:43:55.494521800Z",
     "start_time": "2023-08-27T19:43:55.486079300Z"
    }
   },
   "id": "51519fdc57a7136e"
  },
  {
   "cell_type": "code",
   "execution_count": 5,
   "outputs": [
    {
     "data": {
      "text/plain": "'100.00'"
     },
     "execution_count": 5,
     "metadata": {},
     "output_type": "execute_result"
    }
   ],
   "source": [
    "check_accuracy(loader, model, device)"
   ],
   "metadata": {
    "collapsed": false,
    "ExecuteTime": {
     "end_time": "2023-08-27T19:43:57.241974100Z",
     "start_time": "2023-08-27T19:43:55.497049600Z"
    }
   },
   "id": "2c175ae924beccf6"
  },
  {
   "cell_type": "code",
   "execution_count": 6,
   "outputs": [
    {
     "data": {
      "text/plain": "<Figure size 640x480 with 2 Axes>",
      "image/png": "[encoded data removed]"
     },
     "metadata": {},
     "output_type": "display_data"
    }
   ],
   "source": [
    "from matplotlib import pyplot as plt\n",
    "import numpy\n",
    "from chess_pytorch_ia.autoencoder.datasets.dataset_64 import create_64_data_matrix\n",
    "\n",
    "model.eval()\n",
    "\n",
    "dataset = [create_64_data_matrix(idx) for idx in range(64)]\n",
    "dataset = torch.from_numpy(numpy.array(dataset)).float()\n",
    "dataset = dataset.to(device=device)\n",
    "\n",
    "lattent_space = model.encode(dataset)\n",
    "min_ = lattent_space.min()\n",
    "max_ = lattent_space.max()\n",
    "\n",
    "# Afficher le tenseur en utilisant une échelle de couleurs allant du min au max\n",
    "plt.imshow(lattent_space.cpu().detach().numpy(), cmap='seismic', vmin=min_, vmax=max_)\n",
    "plt.colorbar()\n",
    "plt.show()"
   ],
   "metadata": {
    "collapsed": false,
    "ExecuteTime": {
     "end_time": "2023-08-27T19:43:58.944942300Z",
     "start_time": "2023-08-27T19:43:57.270517900Z"
    }
   },
   "id": "4c3d180abcbeddee"
  },
  {
   "cell_type": "code",
   "execution_count": 7,
   "outputs": [
    {
     "data": {
      "text/plain": "tensor([[5.7085e+00, 3.6346e+00, 2.1854e+00, 3.3810e+00],\n        [1.0064e+01, 6.6170e+00, 3.2927e+00, 2.5448e+00],\n        [5.4429e+00, 5.4440e+00, 2.7302e+00, 1.1992e+00],\n        [1.4985e+01, 4.5945e+00, 6.8333e+00, 1.1529e+01],\n        [4.7007e+00, 1.1059e+01, 6.0572e+00, 1.5063e+00],\n        [9.2595e+00, 7.9906e+00, 5.1574e-01, 6.5198e+00],\n        [2.6573e+00, 7.7687e+00, 2.8617e+00, 2.8008e+00],\n        [1.6713e+01, 4.1549e+00, 5.9415e+00, 7.3516e+00],\n        [6.3902e+00, 7.1417e+00, 1.3693e+00, 8.5273e+00],\n        [5.7174e-01, 1.0004e+01, 8.4869e+00, 1.0688e+01],\n        [1.4942e+01, 3.2205e+00, 3.6930e+00, 1.2889e+00],\n        [7.8000e+00, 8.7078e+00, 1.3285e+01, 4.3939e+00],\n        [1.5766e+01, 2.5093e+00, 1.2293e+00, 9.3446e+00],\n        [3.5196e+00, 7.8831e+00, 6.9561e+00, 9.5313e+00],\n        [9.0693e+00, 7.8621e+00, 6.7959e-01, 3.1688e-01],\n        [7.8352e+00, 1.0220e+01, 9.2025e+00, 4.9633e+00],\n        [8.5256e+00, 9.5428e+00, 2.9435e+00, 0.0000e+00],\n        [1.4949e+01, 3.8081e+00, 8.1780e+00, 1.6310e+00],\n        [1.4665e+01, 3.4881e+00, 3.1955e-01, 3.0576e+00],\n        [8.5997e+00, 4.6850e+00, 4.8944e+00, 1.1083e+01],\n        [1.2077e+01, 5.0923e+00, 8.3083e-04, 7.0675e+00],\n        [9.7841e-01, 8.0703e+00, 7.1317e+00, 5.3204e-01],\n        [8.2160e-01, 9.6936e+00, 3.5645e+00, 2.3820e-01],\n        [5.4781e-01, 1.0805e+01, 5.9409e+00, 4.4051e+00],\n        [2.0147e+00, 7.7799e+00, 6.1361e+00, 1.4477e+01],\n        [7.5804e+00, 5.5597e+00, 5.2752e+00, 1.7353e+01],\n        [7.1431e+00, 3.5231e+00, 1.4581e+00, 6.8366e+00],\n        [8.7997e+00, 3.9918e+00, 8.0506e+00, 1.1500e+01],\n        [1.9348e+00, 7.1211e+00, 1.1767e+00, 1.4962e+01],\n        [1.3366e+01, 6.4448e+00, 7.6971e+00, 7.1298e+00],\n        [1.0445e+01, 7.4536e+00, 6.2559e+00, 5.6740e-01],\n        [9.6777e+00, 3.8307e+00, 1.1870e+00, 1.5288e+01],\n        [4.7970e+00, 9.1921e+00, 3.0129e-01, 2.0547e+00],\n        [1.1092e+01, 6.6843e+00, 1.6380e-03, 3.9518e+00],\n        [7.9628e+00, 7.8251e+00, 4.7913e+00, 5.4912e+00],\n        [3.3337e+00, 9.1659e+00, 1.1828e+01, 4.8076e+00],\n        [5.1039e+00, 7.1841e+00, 6.8325e+00, 3.8110e-02],\n        [3.4423e+00, 6.8500e+00, 5.4865e-01, 9.4520e+00],\n        [4.9751e+00, 9.6194e+00, 1.4937e-01, 7.9172e+00],\n        [6.8401e+00, 9.5329e+00, 3.8700e-01, 5.6328e+00],\n        [4.8214e-01, 9.7281e+00, 1.0684e+00, 7.6627e+00],\n        [1.2267e+01, 6.3724e+00, 1.1130e+01, 1.0403e+01],\n        [1.1069e+01, 5.7818e+00, 1.0586e+00, 7.5692e-01],\n        [8.8392e+00, 9.6976e+00, 1.4808e+00, 3.8585e+00],\n        [2.1473e+00, 1.0004e+01, 3.3961e+00, 1.0328e+01],\n        [9.5146e+00, 6.4085e+00, 8.9137e+00, 1.1055e-01],\n        [9.5759e+00, 4.9488e+00, 4.0315e+00, 9.0222e-01],\n        [4.0377e+00, 8.1261e+00, 3.2092e+00, 8.1866e+00],\n        [1.3746e+01, 6.4602e+00, 4.2418e+00, 0.0000e+00],\n        [3.4850e+00, 7.5532e+00, 2.0671e+00, 4.0000e-02],\n        [1.2590e+01, 4.3346e+00, 2.2104e-02, 1.0519e+01],\n        [4.0788e+00, 6.6643e+00, 4.4508e+00, 5.0326e+00],\n        [7.0674e+00, 7.2830e+00, 5.0818e+00, 1.2855e+01],\n        [1.1894e+01, 5.2260e+00, 1.1434e+01, 5.9795e+00],\n        [9.9869e+00, 8.9712e+00, 6.3351e+00, 1.0062e+01],\n        [1.5699e+00, 1.0358e+01, 4.5716e+00, 7.0663e+00],\n        [3.8306e+00, 5.0099e+00, 3.0468e+00, 1.2976e+00],\n        [5.6257e+00, 7.7863e+00, 2.3539e+00, 5.5126e+00],\n        [5.7384e+00, 5.3246e+00, 8.3870e+00, 6.8182e+00],\n        [2.6416e+00, 6.6230e+00, 1.0936e+01, 8.1371e+00],\n        [2.9499e+00, 8.8744e+00, 7.2825e+00, 4.6449e+00],\n        [1.3694e+01, 7.4644e+00, 3.0630e+00, 8.0895e+00],\n        [3.0269e+00, 9.7560e+00, 1.2217e+00, 5.0797e+00],\n        [5.5873e+00, 5.5862e+00, 0.0000e+00, 1.1019e+01]], device='cuda:0',\n       grad_fn=<ReluBackward0>)"
     },
     "metadata": {},
     "output_type": "display_data"
    }
   ],
   "source": [
    "display(lattent_space)"
   ],
   "metadata": {
    "collapsed": false,
    "ExecuteTime": {
     "end_time": "2023-08-27T19:43:58.986853800Z",
     "start_time": "2023-08-27T19:43:58.940938100Z"
    }
   },
   "id": "dd494c7d064740b4"
  }
 ],
 "metadata": {
  "kernelspec": {
   "display_name": "Python 3",
   "language": "python",
   "name": "python3"
  },
  "language_info": {
   "codemirror_mode": {
    "name": "ipython",
    "version": 2
   },
   "file_extension": ".py",
   "mimetype": "text/x-python",
   "name": "python",
   "nbconvert_exporter": "python",
   "pygments_lexer": "ipython2",
   "version": "2.7.6"
  }
 },
 "nbformat": 4,
 "nbformat_minor": 5
}
