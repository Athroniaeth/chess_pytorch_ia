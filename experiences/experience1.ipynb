{
 "cells": [
  {
   "cell_type": "markdown",
   "source": [
    "# Make a plot of the data"
   ],
   "metadata": {
    "collapsed": false
   },
   "id": "b08743f446470952"
  },
  {
   "cell_type": "markdown",
   "source": [
    "# Make a plot of the data"
   ],
   "metadata": {
    "collapsed": false
   },
   "id": "929f4e0977222ddb"
  },
  {
   "cell_type": "markdown",
   "source": [
    "# Première expérience\n",
    "Nous allons si nous arrivons à faire un autoencoder qui fonctionne correctement (100% accuracy) \n",
    "Cette auto encodeur servira à fournir l'espace lattent au modèle prédictif de coups d'échecs"
   ],
   "metadata": {
    "collapsed": false
   },
   "id": "5ebf582e0dc0935"
  },
  {
   "cell_type": "code",
   "execution_count": 22,
   "outputs": [
    {
     "name": "stdout",
     "output_type": "stream",
     "text": [
      "Using device: cuda:0\n"
     ]
    }
   ],
   "source": [
    "import torch\n",
    "\n",
    "# Detection du gpu et utilisation si disponible\n",
    "device = torch.device('cuda:0' if torch.cuda.is_available() else 'cpu')\n",
    "print('Using device:', device)"
   ],
   "metadata": {
    "collapsed": false,
    "ExecuteTime": {
     "end_time": "2023-08-27T19:43:34.246986400Z",
     "start_time": "2023-08-27T19:43:34.233621300Z"
    }
   },
   "id": "b5006dc3c0a892c0"
  },
  {
   "cell_type": "code",
   "execution_count": 23,
   "outputs": [
    {
     "name": "stdout",
     "output_type": "stream",
     "text": [
      "C:\\Users\\pierr\\OneDrive\\Bureau\\Projet\\chess_pytorch_ia\\weights\\auto_encoder_64.pth\n"
     ]
    }
   ],
   "source": [
    "from pathlib import Path\n",
    "\n",
    "# Hyper paramètres\n",
    "lr = 1e-3\n",
    "batch_size = 8\n",
    "num_epochs = 200\n",
    "\n",
    "# Chemin vers le fichier de sauvegarde des poids\n",
    "path = Path().resolve().parent / 'weights' / f'auto_encoder_64.pth'\n",
    "print(path)"
   ],
   "metadata": {
    "collapsed": false,
    "ExecuteTime": {
     "end_time": "2023-08-27T19:43:34.248018100Z",
     "start_time": "2023-08-27T19:43:34.237666500Z"
    }
   },
   "id": "dc57c314b9960fc6"
  },
  {
   "cell_type": "code",
   "execution_count": 24,
   "outputs": [],
   "source": [
    "from chess_pytorch_ia.autoencoder.model_64 import AutoEncoder64\n",
    "from torch import nn\n",
    "\n",
    "# Charge l'architecture de l'auto encodeur 64x (8x8)\n",
    "model = AutoEncoder64().to(device=device)"
   ],
   "metadata": {
    "collapsed": false,
    "ExecuteTime": {
     "end_time": "2023-08-27T19:43:34.253075200Z",
     "start_time": "2023-08-27T19:43:34.243404400Z"
    }
   },
   "id": "4fb55bf633a9884c"
  },
  {
   "cell_type": "code",
   "execution_count": 25,
   "outputs": [],
   "source": [
    "from torch.utils.data import DataLoader\n",
    "from chess_pytorch_ia.autoencoder.datasets.dataset_64 import RandomMoveDataset64\n",
    "\n",
    "# Charge les données\n",
    "dataset = RandomMoveDataset64()\n",
    "loader = DataLoader(dataset=dataset, batch_size=batch_size, shuffle=True)"
   ],
   "metadata": {
    "collapsed": false,
    "ExecuteTime": {
     "end_time": "2023-08-27T19:43:34.257618700Z",
     "start_time": "2023-08-27T19:43:34.251032600Z"
    }
   },
   "id": "d7ffb2de04a01342"
  },
  {
   "cell_type": "code",
   "execution_count": 26,
   "outputs": [],
   "source": [
    "# Fonction pour calculer la précision du modèle\n",
    "from chess_pytorch_ia.analys import check_accuracy"
   ],
   "metadata": {
    "collapsed": false,
    "ExecuteTime": {
     "end_time": "2023-08-27T19:43:34.277818300Z",
     "start_time": "2023-08-27T19:43:34.256618500Z"
    }
   },
   "id": "c1bc2fb60cbb8833"
  },
  {
   "cell_type": "code",
   "execution_count": 27,
   "outputs": [],
   "source": [
    "from torch import optim\n",
    "\n",
    "# Fonction de perte et optimiseur\n",
    "criterion = nn.CrossEntropyLoss()\n",
    "optimizer = optim.Adam(model.parameters(), lr=lr)"
   ],
   "metadata": {
    "collapsed": false,
    "ExecuteTime": {
     "end_time": "2023-08-27T19:43:34.278818600Z",
     "start_time": "2023-08-27T19:43:34.263247900Z"
    }
   },
   "id": "42f36eb18402ebbf"
  },
  {
   "cell_type": "code",
   "execution_count": 28,
   "outputs": [
    {
     "data": {
      "text/plain": "'Epoch: 200/200 - Training Loss: 3.1887 - Accuracy: 100.00'"
     },
     "metadata": {},
     "output_type": "display_data"
    },
    {
     "name": "stdout",
     "output_type": "stream",
     "text": [
      "Le meilleur modèle a 100.00% de précision\n"
     ]
    }
   ],
   "source": [
    "from IPython.display import display, clear_output\n",
    "from tqdm.notebook import tqdm\n",
    "\n",
    "# Entraînement du modèle et sauvegarde du meilleur modèle\n",
    "best_accuracy = 0\n",
    "for epoch in range(num_epochs):\n",
    "    pbar = tqdm(enumerate(loader), total=len(loader), leave=False)\n",
    "\n",
    "    for batch_idx, (data, targets) in pbar:\n",
    "        data = data.to(device=device)\n",
    "        targets = torch.argmax(targets, dim=1)\n",
    "        targets = targets.to(device=device)\n",
    "\n",
    "        scores = model.forward(data)\n",
    "        _, predictions = scores.max(1)\n",
    "\n",
    "        accuracy = (predictions == targets).sum()\n",
    "        accuracy = f\"{(float(accuracy) / batch_size) * 100:.2f}\"\n",
    "\n",
    "        loss = criterion(scores, targets)\n",
    "        optimizer.zero_grad()\n",
    "        loss.backward()\n",
    "        optimizer.step()\n",
    "\n",
    "        pbar.set_description(f\"epochs: {epoch + 1}/{num_epochs}  -  accuracy : {accuracy}  -  loss: {loss.item():.4f}\")\n",
    "\n",
    "    accuracy = check_accuracy(loader, model, device=device)\n",
    "    pbar.refresh()\n",
    "\n",
    "    # Utilisation de display et clear_output pour contrôler l'affichage\n",
    "    clear_output(wait=True)\n",
    "    display(f\"Epoch: {epoch + 1}/{num_epochs} - Training Loss: {loss.item():.4f} - Accuracy: {accuracy}\")\n",
    "\n",
    "    if float(best_accuracy) < float(accuracy):\n",
    "        best_accuracy = accuracy\n",
    "        print(\"Ce modèle est meilleur que le précédent, sauvegarde en cours..\")\n",
    "        torch.save(model.state_dict(), f'{path}')\n",
    "\n",
    "print(f\"Le meilleur modèle a {best_accuracy}% de précision\")"
   ],
   "metadata": {
    "collapsed": false
   },
   "id": "3ff57fc80d84cd07"
  },
  {
   "cell_type": "code",
   "execution_count": null,
   "outputs": [],
   "source": [
    "# Entrainement du modèle de prediction de coups\n",
    "\n",
    "# Hyper paramètres\n",
    "lr = 1e-3\n",
    "batch_size = 8\n",
    "num_epochs = 200\n",
    "\n",
    "# Chemin vers le fichier de sauvegarde des poids\n",
    "path = Path().resolve().parent / 'weights' / f'auto_encoder_64.pth'\n",
    "print(path)"
   ],
   "metadata": {
    "collapsed": false
   },
   "id": "bab172f890c57866"
  },
  {
   "cell_type": "code",
   "execution_count": null,
   "outputs": [],
   "source": [
    "\n",
    "# Detection du gpu et utilisation si disponible\n",
    "device = torch.device('cuda:0' if torch.cuda.is_available() else 'cpu')\n",
    "print('Using device:', device)"
   ],
   "metadata": {
    "collapsed": false
   },
   "id": "2663dd367cc0bc8b"
  },
  {
   "cell_type": "code",
   "execution_count": null,
   "outputs": [],
   "source": [
    "\n",
    "from chess_pytorch_ia.autoencoder.model_64 import AutoEncoder64\n",
    "from torch import nn\n",
    "    \n",
    "# Charge l'architecture de l'auto encodeur 64x (8x8)\n",
    "model = AutoEncoder64().to(device=device)"
   ],
   "metadata": {
    "collapsed": false
   },
   "id": "de4d1adb5caeda2b"
  },
  {
   "cell_type": "code",
   "execution_count": null,
   "outputs": [],
   "source": [
    "\n",
    "from torch.utils.data import DataLoader\n",
    "from chess_pytorch_ia.autoencoder.datasets.dataset_64 import RandomMoveDataset64"
   ],
   "metadata": {
    "collapsed": false
   },
   "id": "dc6040603d9d1d18"
  }
 ],
 "metadata": {
  "kernelspec": {
   "display_name": "Python 3",
   "language": "python",
   "name": "python3"
  },
  "language_info": {
   "codemirror_mode": {
    "name": "ipython",
    "version": 2
   },
   "file_extension": ".py",
   "mimetype": "text/x-python",
   "name": "python",
   "nbconvert_exporter": "python",
   "pygments_lexer": "ipython2",
   "version": "2.7.6"
  }
 },
 "nbformat": 4,
 "nbformat_minor": 5
}
